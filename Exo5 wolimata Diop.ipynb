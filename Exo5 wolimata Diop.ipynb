{
 "cells": [
  {
   "cell_type": "code",
   "execution_count": 1,
   "metadata": {
    "collapsed": true
   },
   "outputs": [
    {
     "name": "stdout",
     "output_type": "stream",
     "text": [
      "ceci est un exemple de texte en français ou en englais.\n"
     ]
    }
   ],
   "source": [
    "#exo5\n",
    "def calculer_frequences(texte):\n",
    "    frequences = {}\n",
    "    \n",
    "    lettres = [c.lower() for c in texte if c.isalpha()]\n",
    "    \n",
    "    total = len(lettres)\n",
    "    for lettre in lettres:\n",
    "        frequences[lettre] = frequences.get(lettre, 0) + 1\n",
    "        \n",
    "        \n",
    "    frequences = {lettre:(occurrences / total) * 100 for lettre, occurrences in frequences.items()}\n",
    "    return frequences\n",
    "texte_text = \"ceci est un exemple de calcule_frequences.\"\n",
    "texte_text = \"ceci est un exemple de texte en français ou en englais.\"\n",
    "calculer_frequences(texte_text)\n",
    "print(texte_text)"
   ]
  },
  {
   "cell_type": "code",
   "execution_count": null,
   "metadata": {},
   "outputs": [],
   "source": []
  }
 ],
 "metadata": {
  "kernelspec": {
   "display_name": "Python 3",
   "language": "python",
   "name": "python3"
  },
  "language_info": {
   "codemirror_mode": {
    "name": "ipython",
    "version": 3
   },
   "file_extension": ".py",
   "mimetype": "text/x-python",
   "name": "python",
   "nbconvert_exporter": "python",
   "pygments_lexer": "ipython3",
   "version": "3.7.4"
  }
 },
 "nbformat": 4,
 "nbformat_minor": 2
}
